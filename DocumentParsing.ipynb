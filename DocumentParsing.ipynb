{
 "cells": [
  {
   "cell_type": "code",
   "execution_count": 25,
   "metadata": {},
   "outputs": [],
   "source": [
    "import os\n",
    "import pandas as pd"
   ]
  },
  {
   "cell_type": "code",
   "execution_count": 26,
   "metadata": {},
   "outputs": [],
   "source": [
    "data_dir = 'wiki_data/'\n",
    "out_csv_path = 'documents.csv'"
   ]
  },
  {
   "cell_type": "code",
   "execution_count": 27,
   "metadata": {},
   "outputs": [],
   "source": [
    "def parse_document(document_lines):\n",
    "    start = 0\n",
    "    while start < len(document_lines) and document_lines[start] != \"Contents\\n\":\n",
    "        start += 1\n",
    "\n",
    "    doc = []\n",
    "    for i in range(start, len(document_lines)):\n",
    "        if document_lines[i][0] == \"^\":\n",
    "            continue\n",
    "\n",
    "        line_length = len(document_lines[i].split(\" \"))\n",
    "        if \"References\" == document_lines[i][:len(\"References\")] and line_length < 2:\n",
    "            break\n",
    "\n",
    "        if line_length > 10:\n",
    "            doc.append(document_lines[i])\n",
    "\n",
    "    return ' '.join(doc)"
   ]
  },
  {
   "cell_type": "code",
   "execution_count": 45,
   "metadata": {},
   "outputs": [],
   "source": [
    "def parse_dataset_for_documents(csv_path, data_dir):\n",
    "    df = pd.DataFrame(columns=['Document Number', 'Document'])\n",
    "    docs = []\n",
    "    numbers = []\n",
    "    used_document_count = 0\n",
    "    skipped_document_count = 0\n",
    "    \n",
    "    for filename in os.listdir(data_dir):\n",
    "        if filename.split(\".\")[1] != 'txt':\n",
    "            continue\n",
    "            \n",
    "        document = parse_document(open(data_dir + filename).readlines())\n",
    "        if document != \"\":\n",
    "            docs.append(document)\n",
    "            numbers.append(filename.split(\".\")[0])\n",
    "            used_document_count += 1\n",
    "        else:\n",
    "            skipped_document_count += 1\n",
    "                    \n",
    "        if used_document_count % 10000 == 0:\n",
    "            print(str(used_document_count) + ' used.')\n",
    "            \n",
    "    df['Document'] = docs\n",
    "    df['Document Number'] = numbers\n",
    "    \n",
    "    df.to_csv(csv_path, index=False)\n",
    "    \n",
    "    return used_document_count, skipped_document_count"
   ]
  },
  {
   "cell_type": "code",
   "execution_count": 46,
   "metadata": {},
   "outputs": [
    {
     "name": "stdout",
     "output_type": "stream",
     "text": [
      "10000 used.\n"
     ]
    }
   ],
   "source": [
    "used_doc_count, skip_doc_count = parse_dataset_for_documents(out_csv_path, data_dir)"
   ]
  },
  {
   "cell_type": "code",
   "execution_count": 47,
   "metadata": {},
   "outputs": [
    {
     "name": "stdout",
     "output_type": "stream",
     "text": [
      "10000 7752\n"
     ]
    }
   ],
   "source": [
    "print(used_doc_count, skip_doc_count)"
   ]
  },
  {
   "cell_type": "code",
   "execution_count": 48,
   "metadata": {},
   "outputs": [],
   "source": [
    "df = pd.read_csv(out_csv_path)"
   ]
  },
  {
   "cell_type": "code",
   "execution_count": 52,
   "metadata": {},
   "outputs": [
    {
     "data": {
      "text/plain": [
       "(520879,\n",
       " 'Deacon was brought up by his English mother in Stoke Newington, Hackney. His father is Jamaican , and walked out on the family when he was two years old, and to this date the pair have never had any contact.[4]\\n Although his acting career began with guest appearances in Bill\\'s New Frock, Shooters, Ali G Indahouse and The Bill, he also starred in the ITV drama Wall Of Silence in 2004.[5] Deacon\\'s breakthrough came when he landed a starring role in the urban drama film Kidulthood. He then worked with Kidulthood writer Noel Clarke on a number of other projects until 2011, including the sequel Adulthood, 4.3.2.1. and the one-off television pilot West 10 LDN.[6]\\n Deacon co-wrote, co-directed and played the lead role in urban comedy Anuvahood.[7] Following this, Time Out magazine labeled Deacon \"The New Face of Youth Cinema\".[8] In February 2012, he won the BAFTA Rising Star Award.\\n Deacon has since appeared in many lead and supporting roles in feature films, including Bonded by Blood, Jack Falls, Shank, Everywhere and Nowhere and Payback Season.[9] He had a guest role in Victim. In November 2012, he co-hosted the Music of Black Origin Awards telecast with Miquita Oliver where Deacon played a comical part in the awards.[10]\\n In July 2015 he was found guilty of harassment without violence at West London Magistrates\\' Court, having had a highly publicised feud with Noel Clarke with accusations of Clarke sabotaging Deacon\\'s career, which Clarke stated was not true. On 20 July Deacon was found guilty.[11] The court, which heard that Deacon had been diagnosed with bipolar disorder and had been self-medicating using skunk cannabis, banned Deacon from contacting Clarke again.[12]\\n On 7 April 2016 he was arrested after police were called to reports of a man reportedly armed with a machete style knife and threatening members of the public in London.[13] He was unable to attend a hearing in March due to being \"in hospital for treatment for underlying mental health issues\". On 7 April the jury delivered two not-guilty verdicts for affray and possessing an offensive weapon accepting Deacon was mentally ill and not criminally responsible for his actions.[14]\\n Deacon has since been outspoken about the lack of services available for people with mental health issues and works closely with mental health charity Mind to encourage young people to communicate with someone with their issues.\\n Tyrell Cate (2 Episodes: \"The Sunny Side of the Street\", Parts 1 & 2)\\n Ajam Kamar (Series 5, Episode 1: \"The Enemy Within, Part 1\")\\n')"
      ]
     },
     "execution_count": 52,
     "metadata": {},
     "output_type": "execute_result"
    }
   ],
   "source": [
    "(df['Document Number'][0], df['Document'][0])"
   ]
  },
  {
   "cell_type": "code",
   "execution_count": null,
   "metadata": {},
   "outputs": [],
   "source": []
  }
 ],
 "metadata": {
  "kernelspec": {
   "display_name": "Python 3",
   "language": "python",
   "name": "python3"
  },
  "language_info": {
   "codemirror_mode": {
    "name": "ipython",
    "version": 3
   },
   "file_extension": ".py",
   "mimetype": "text/x-python",
   "name": "python",
   "nbconvert_exporter": "python",
   "pygments_lexer": "ipython3",
   "version": "3.6.4"
  }
 },
 "nbformat": 4,
 "nbformat_minor": 2
}
