{
 "cells": [
  {
   "cell_type": "code",
   "execution_count": 2,
   "metadata": {},
   "outputs": [],
   "source": [
    "from bs4 import BeautifulSoup\n",
    "import requests\n",
    "import os\n",
    "import pandas as pd\n",
    "import itertools\n",
    "import urllib"
   ]
  },
  {
   "cell_type": "code",
   "execution_count": 3,
   "metadata": {},
   "outputs": [],
   "source": [
    "urls = open('train_urls.txt').readlines()"
   ]
  },
  {
   "cell_type": "code",
   "execution_count": 4,
   "metadata": {},
   "outputs": [
    {
     "name": "stderr",
     "output_type": "stream",
     "text": [
      "/home/aarongg2/anaconda3/lib/python3.6/site-packages/bs4/__init__.py:181: UserWarning: No parser was explicitly specified, so I'm using the best available HTML parser for this system (\"lxml\"). This usually isn't a problem, but if you run this code on another system, or in a different virtual environment, it may use a different parser and behave differently.\n",
      "\n",
      "The code that caused this warning is on line 193 of the file /home/aarongg2/anaconda3/lib/python3.6/runpy.py. To get rid of this warning, change code that looks like this:\n",
      "\n",
      " BeautifulSoup(YOUR_MARKUP})\n",
      "\n",
      "to this:\n",
      "\n",
      " BeautifulSoup(YOUR_MARKUP, \"lxml\")\n",
      "\n",
      "  markup_type=markup_type))\n"
     ]
    }
   ],
   "source": [
    "soup = BeautifulSoup()"
   ]
  },
  {
   "cell_type": "code",
   "execution_count": 5,
   "metadata": {},
   "outputs": [],
   "source": [
    "try:\n",
    "    from google.appengine.api import urlfetch\n",
    "except ImportError:\n",
    "    urlfetch = None\n",
    "\n",
    "\n",
    "def wget(url):\n",
    "    if urlfetch:\n",
    "        return urlfetch.fetch(url).content\n",
    "    else:\n",
    "        req = urllib.request.Request(url)\n",
    "        req.add_header(\"User-Agent\", \"Mozilla/5.0 (Compatible)\")\n",
    "        return urllib.request.urlopen(req).read()\n",
    "\n",
    "def wikisnip(url):\n",
    "    html = wget(url)\n",
    "    soup = BeautifulSoup(html)\n",
    "\n",
    "    div = soup.find('div', {'id': 'bodyContent'})\n",
    "\n",
    "    snip = BeautifulSoup('')\n",
    "\n",
    "    for node in div.childGenerator():\n",
    "        if (isinstance(node, str) or\n",
    "            node.name.lower() in [\"table\", \"script\"] or\n",
    "            node.get('id') in [\"siteSub\", \"contentSub\", \"jump-to-nav\"] or\n",
    "            node.get('class') in ['dablink', 'toclimit-2']):\n",
    "            continue\n",
    "\n",
    "        snip.append(node)\n",
    "\n",
    "    for a in snip.findAll('a'):\n",
    "        if a.get('href'):\n",
    "            a['href'] = urllib.parse.urljoin(url, a['href'])\n",
    "\n",
    "    return snip"
   ]
  },
  {
   "cell_type": "code",
   "execution_count": 13,
   "metadata": {
    "scrolled": true
   },
   "outputs": [
    {
     "name": "stderr",
     "output_type": "stream",
     "text": [
      "/home/aarongg2/anaconda3/lib/python3.6/site-packages/bs4/__init__.py:181: UserWarning: No parser was explicitly specified, so I'm using the best available HTML parser for this system (\"lxml\"). This usually isn't a problem, but if you run this code on another system, or in a different virtual environment, it may use a different parser and behave differently.\n",
      "\n",
      "The code that caused this warning is on line 193 of the file /home/aarongg2/anaconda3/lib/python3.6/runpy.py. To get rid of this warning, change code that looks like this:\n",
      "\n",
      " BeautifulSoup(YOUR_MARKUP})\n",
      "\n",
      "to this:\n",
      "\n",
      " BeautifulSoup(YOUR_MARKUP, \"lxml\")\n",
      "\n",
      "  markup_type=markup_type))\n"
     ]
    },
    {
     "name": "stdout",
     "output_type": "stream",
     "text": [
      "wiki_data/0.txt\n",
      "wiki_data/1.txt\n",
      "wiki_data/2.txt\n",
      "wiki_data/3.txt\n",
      "wiki_data/4.txt\n",
      "wiki_data/5.txt\n",
      "wiki_data/6.txt\n",
      "wiki_data/7.txt\n",
      "wiki_data/8.txt\n",
      "wiki_data/9.txt\n",
      "wiki_data/10.txt\n",
      "[0, 1, 2, 3, 4, 5, 6, 7, 8, 9, 10]\n",
      "['https://en.wikipedia.org/wiki/index.php?curid=1560608\\n', 'https://en.wikipedia.org/wiki/index.php?curid=11330618\\n', 'https://en.wikipedia.org/wiki/index.php?curid=34417398\\n', 'https://en.wikipedia.org/wiki/index.php?curid=2542280\\n', 'https://en.wikipedia.org/wiki/index.php?curid=4293661\\n', 'https://en.wikipedia.org/wiki/index.php?curid=15283149\\n', 'https://en.wikipedia.org/wiki/index.php?curid=24125366\\n', 'https://en.wikipedia.org/wiki/index.php?curid=42549285\\n', 'https://en.wikipedia.org/wiki/index.php?curid=19825320\\n', 'https://en.wikipedia.org/wiki/index.php?curid=3097871\\n', 'https://en.wikipedia.org/wiki/index.php?curid=39381319\\n']\n"
     ]
    }
   ],
   "source": [
    "url_df = pd.DataFrame(columns=['DOCNUM', 'URL'])\n",
    "doc_nums = []\n",
    "used_urls = []\n",
    "for i in range(len(urls)):\n",
    "    url = urls[i]\n",
    "    try:\n",
    "        ws = wikisnip(url)\n",
    "        filepath = 'wiki_data/{0}.txt'.format(str(i), url)\n",
    "        print(filepath)\n",
    "        with open(filepath, 'wb') as f:\n",
    "            f.write(ws.text.encode('utf8'))\n",
    "            f.close()\n",
    "            \n",
    "        doc_nums.append(i)\n",
    "        used_urls.append(url)\n",
    "    except:\n",
    "        pass\n",
    "    \n",
    "url_df['DOCNUM'] = doc_nums\n",
    "url_df['URL'] = used_urls\n",
    "url_df.to_csv('url_docnums.csv', index=False)"
   ]
  },
  {
   "cell_type": "code",
   "execution_count": 14,
   "metadata": {},
   "outputs": [],
   "source": [
    "df = pd.read_csv('url_docnums.csv')"
   ]
  },
  {
   "cell_type": "code",
   "execution_count": 15,
   "metadata": {},
   "outputs": [
    {
     "data": {
      "text/html": [
       "<div>\n",
       "<style scoped>\n",
       "    .dataframe tbody tr th:only-of-type {\n",
       "        vertical-align: middle;\n",
       "    }\n",
       "\n",
       "    .dataframe tbody tr th {\n",
       "        vertical-align: top;\n",
       "    }\n",
       "\n",
       "    .dataframe thead th {\n",
       "        text-align: right;\n",
       "    }\n",
       "</style>\n",
       "<table border=\"1\" class=\"dataframe\">\n",
       "  <thead>\n",
       "    <tr style=\"text-align: right;\">\n",
       "      <th></th>\n",
       "      <th>DOCNUM</th>\n",
       "      <th>URL</th>\n",
       "    </tr>\n",
       "  </thead>\n",
       "  <tbody>\n",
       "    <tr>\n",
       "      <th>0</th>\n",
       "      <td>0</td>\n",
       "      <td>https://en.wikipedia.org/wiki/index.php?curid=...</td>\n",
       "    </tr>\n",
       "    <tr>\n",
       "      <th>1</th>\n",
       "      <td>1</td>\n",
       "      <td>https://en.wikipedia.org/wiki/index.php?curid=...</td>\n",
       "    </tr>\n",
       "    <tr>\n",
       "      <th>2</th>\n",
       "      <td>2</td>\n",
       "      <td>https://en.wikipedia.org/wiki/index.php?curid=...</td>\n",
       "    </tr>\n",
       "    <tr>\n",
       "      <th>3</th>\n",
       "      <td>3</td>\n",
       "      <td>https://en.wikipedia.org/wiki/index.php?curid=...</td>\n",
       "    </tr>\n",
       "    <tr>\n",
       "      <th>4</th>\n",
       "      <td>4</td>\n",
       "      <td>https://en.wikipedia.org/wiki/index.php?curid=...</td>\n",
       "    </tr>\n",
       "    <tr>\n",
       "      <th>5</th>\n",
       "      <td>5</td>\n",
       "      <td>https://en.wikipedia.org/wiki/index.php?curid=...</td>\n",
       "    </tr>\n",
       "    <tr>\n",
       "      <th>6</th>\n",
       "      <td>6</td>\n",
       "      <td>https://en.wikipedia.org/wiki/index.php?curid=...</td>\n",
       "    </tr>\n",
       "    <tr>\n",
       "      <th>7</th>\n",
       "      <td>7</td>\n",
       "      <td>https://en.wikipedia.org/wiki/index.php?curid=...</td>\n",
       "    </tr>\n",
       "    <tr>\n",
       "      <th>8</th>\n",
       "      <td>8</td>\n",
       "      <td>https://en.wikipedia.org/wiki/index.php?curid=...</td>\n",
       "    </tr>\n",
       "    <tr>\n",
       "      <th>9</th>\n",
       "      <td>9</td>\n",
       "      <td>https://en.wikipedia.org/wiki/index.php?curid=...</td>\n",
       "    </tr>\n",
       "    <tr>\n",
       "      <th>10</th>\n",
       "      <td>10</td>\n",
       "      <td>https://en.wikipedia.org/wiki/index.php?curid=...</td>\n",
       "    </tr>\n",
       "  </tbody>\n",
       "</table>\n",
       "</div>"
      ],
      "text/plain": [
       "    DOCNUM                                                URL\n",
       "0        0  https://en.wikipedia.org/wiki/index.php?curid=...\n",
       "1        1  https://en.wikipedia.org/wiki/index.php?curid=...\n",
       "2        2  https://en.wikipedia.org/wiki/index.php?curid=...\n",
       "3        3  https://en.wikipedia.org/wiki/index.php?curid=...\n",
       "4        4  https://en.wikipedia.org/wiki/index.php?curid=...\n",
       "5        5  https://en.wikipedia.org/wiki/index.php?curid=...\n",
       "6        6  https://en.wikipedia.org/wiki/index.php?curid=...\n",
       "7        7  https://en.wikipedia.org/wiki/index.php?curid=...\n",
       "8        8  https://en.wikipedia.org/wiki/index.php?curid=...\n",
       "9        9  https://en.wikipedia.org/wiki/index.php?curid=...\n",
       "10      10  https://en.wikipedia.org/wiki/index.php?curid=..."
      ]
     },
     "execution_count": 15,
     "metadata": {},
     "output_type": "execute_result"
    }
   ],
   "source": [
    "df"
   ]
  },
  {
   "cell_type": "code",
   "execution_count": null,
   "metadata": {},
   "outputs": [],
   "source": []
  }
 ],
 "metadata": {
  "kernelspec": {
   "display_name": "Python 3",
   "language": "python",
   "name": "python3"
  },
  "language_info": {
   "codemirror_mode": {
    "name": "ipython",
    "version": 3
   },
   "file_extension": ".py",
   "mimetype": "text/x-python",
   "name": "python",
   "nbconvert_exporter": "python",
   "pygments_lexer": "ipython3",
   "version": "3.6.4"
  }
 },
 "nbformat": 4,
 "nbformat_minor": 2
}
